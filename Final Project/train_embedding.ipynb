{
  "cells": [
    {
      "cell_type": "code",
      "execution_count": 1,
      "metadata": {},
      "outputs": [],
      "source": [
        "from __future__ import print_function\n",
        "import numpy as np\n",
        "import pickle\n",
        "import torch\n",
        "import torch.nn as nn\n",
        "import torch.optim as optim\n",
        "from torch.autograd import Variable\n",
        "import torch.utils.data\n",
        "import matplotlib.pyplot as plt\n",
        " \n",
        "from model import PMF\n",
        "from evaluations import RMSE"
      ]
    },
    {
      "cell_type": "code",
      "execution_count": 2,
      "metadata": {},
      "outputs": [
        {
          "name": "stdout",
          "output_type": "stream",
          "text": [
            "------------------------ Train PMF ---------------------------\n"
          ]
        }
      ],
      "source": [
        "print('------------------------ Train PMF ---------------------------')\n",
        "# --------------------------------------------- HYPERPARAMETERS ----------------------------------------------------\n",
        "# Input batch size for training\n",
        "batch_size = 100000\n",
        "# Number of maximum epoches to train\n",
        "epoches = 150\n",
        "# Enables CUDA training\n",
        "no_cuda = False\n",
        "# Generate random seed\n",
        "seed = 1\n",
        "# Weight decay\n",
        "weight_decay = 0.1\n",
        "# Size of embedding features\n",
        "embedding_feature_size = 100\n",
        "# Training ratio\n",
        "ratio = 0.8\n",
        "# Learning rate\n",
        "lr = 0.0001\n",
        "# Momentum value\n",
        "momentum = 0.9"
      ]
    },
    {
      "cell_type": "code",
      "execution_count": 20,
      "metadata": {},
      "outputs": [
        {
          "name": "stdout",
          "output_type": "stream",
          "text": [
            "Loaded user\n",
            "Loaded rest\n",
            "Loaded data\n"
          ]
        }
      ],
      "source": [
        "# Load datasets\n",
        "user = pickle.load(open('dataset/user_id_to_num.pkl', 'rb'))\n",
        "print(\"Loaded user\")\n",
        "rest = pickle.load(open('dataset/rest_id_to_num.pkl', 'rb'))\n",
        "print(\"Loaded rest\")\n",
        "data = np.load('dataset/data_new.npy', allow_pickle=True)\n",
        "print(\"Loaded data\")"
      ]
    },
    {
      "cell_type": "code",
      "execution_count": 21,
      "metadata": {},
      "outputs": [
        {
          "data": {
            "text/plain": [
              "array([3.0, 540278, 33, 4.06, 80739, 3.0,\n",
              "       list([344, 1252, 736, 114, 412, 1175, 616])], dtype=object)"
            ]
          },
          "execution_count": 21,
          "metadata": {},
          "output_type": "execute_result"
        }
      ],
      "source": [
        "data[0]\n",
        "# Index(['stars', 'user_id_num', 'review_count', 'average_stars',\n",
        "#       'business_id_num', 'business_avg_stars', 'category_codes'],\n",
        "#      dtype='object')"
      ]
    },
    {
      "cell_type": "code",
      "execution_count": 22,
      "metadata": {},
      "outputs": [],
      "source": [
        "data = data[:, :-1] # PMF only need id and stars\n",
        "data = data.astype(np.float64)"
      ]
    },
    {
      "cell_type": "code",
      "execution_count": 23,
      "metadata": {},
      "outputs": [
        {
          "data": {
            "text/plain": [
              "array([[3.00000e+00, 5.40278e+05, 3.30000e+01, 4.06000e+00, 8.07390e+04,\n",
              "        3.00000e+00],\n",
              "       [2.00000e+00, 6.61290e+04, 3.90000e+01, 3.05000e+00, 8.07390e+04,\n",
              "        3.00000e+00],\n",
              "       [3.00000e+00, 6.47623e+05, 4.90000e+02, 3.33000e+00, 8.07390e+04,\n",
              "        3.00000e+00],\n",
              "       ...,\n",
              "       [5.00000e+00, 2.09320e+05, 1.90000e+01, 4.37000e+00, 1.44618e+05,\n",
              "        3.00000e+00],\n",
              "       [5.00000e+00, 3.68960e+05, 1.50000e+01, 4.27000e+00, 9.18410e+04,\n",
              "        5.00000e+00],\n",
              "       [5.00000e+00, 2.01480e+04, 1.30000e+01, 5.00000e+00, 1.07300e+05,\n",
              "        4.00000e+00]])"
            ]
          },
          "execution_count": 23,
          "metadata": {},
          "output_type": "execute_result"
        }
      ],
      "source": [
        "data"
      ]
    },
    {
      "cell_type": "code",
      "execution_count": 24,
      "metadata": {},
      "outputs": [],
      "source": [
        "# Normalize rewards to [-1, 1]\n",
        "data[:,0] = 0.5*(data[:,0] - 3)\n",
        " \n",
        "# Shuffle data\n",
        "np.random.shuffle(data)\n",
        " \n",
        "# Split data\n",
        "train_data = data[:int(ratio*data.shape[0])]\n",
        "vali_data = data[int(ratio*data.shape[0]):int((ratio+(1-ratio)/2)*data.shape[0])]\n",
        "test_data = data[int((ratio+(1-ratio)/2)*data.shape[0]):]\n",
        " \n",
        "# Extract number of users and items\n",
        "NUM_USERS = len(user)\n",
        "NUM_ITEMS = len(rest)"
      ]
    },
    {
      "cell_type": "code",
      "execution_count": 25,
      "metadata": {},
      "outputs": [],
      "source": [
        "# Get CUDA device if available\n",
        "cuda = torch.cuda.is_available()\n",
        " \n",
        "# Set device to CUDA or CPU, depending on availability and desire\n",
        "device = torch.device(\"cuda\" if cuda and no_cuda else \"cpu\")\n",
        " \n",
        "# Generate and apply seeds\n",
        "torch.manual_seed(seed=seed)\n",
        "if cuda:\n",
        "    torch.cuda.empty_cache()\n",
        "    torch.cuda.manual_seed(seed=seed)\n",
        " \n",
        "# Specify number of workers for cuda\n",
        "kwargs = {'num_workers':2, 'pin_memory':True} if cuda else {}\n",
        " \n",
        "# Construct Data Loaders\n",
        "train_data_loader = torch.utils.data.DataLoader(torch.from_numpy(train_data), batch_size=batch_size, shuffle=False, **kwargs)\n",
        "test_data_loader = torch.utils.data.DataLoader(torch.from_numpy(test_data), batch_size=batch_size, shuffle=False, **kwargs)"
      ]
    },
    {
      "cell_type": "code",
      "execution_count": 26,
      "metadata": {},
      "outputs": [],
      "source": [
        "# Initialize model\n",
        "model = PMF(n_users=NUM_USERS, n_items=NUM_ITEMS, n_factors=embedding_feature_size, no_cuda=no_cuda)\n",
        " \n",
        "# Move model to CUDA if CUDA selected\n",
        "if cuda:\n",
        "    model.cuda()\n",
        "    print(\"Model moved to CUDA\")\n",
        " \n",
        "# Set loss function\n",
        "loss_function = nn.MSELoss(reduction='sum')\n",
        " \n",
        "# Set optimizer (uncomment Adam for adam)\n",
        "optimizer = optim.SGD(model.parameters(), lr=lr, weight_decay=weight_decay, momentum=momentum)\n",
        "# optimizer = optim.Adam(model.parameters(), lr=lr, weight_decay=weight_decay)"
      ]
    },
    {
      "cell_type": "code",
      "execution_count": 27,
      "metadata": {},
      "outputs": [],
      "source": [
        "# Function for training one epoch\n",
        "def train(epoch, train_data_loader):\n",
        "    # Initialize\n",
        "    model.train()\n",
        "    epoch_loss = 0.0\n",
        "    optimizer.zero_grad()\n",
        " \n",
        "    # Go through batches\n",
        "    for batch_idx, ele in enumerate(train_data_loader):\n",
        "        # Zero optimizer gradient\n",
        "        optimizer.zero_grad()\n",
        " \n",
        "        # Extract user_id_nums: row, item_id_nums: col, ratings: val\n",
        "        row = ele[:, 1]\n",
        "        col = ele[:, 4]\n",
        "        val = ele[:, 0]\n",
        " \n",
        "        # Set to variables\n",
        "        row = Variable(row.long())\n",
        "        if isinstance(col, list):\n",
        "            col = tuple(Variable(c.long()) for c in col)\n",
        "        else:\n",
        "            col = Variable(col.long())\n",
        "        val = Variable(val.float())\n",
        " \n",
        "        # Move data to CUDA\n",
        "        if cuda:\n",
        "            row = row.cuda()\n",
        "            col = col.cuda()\n",
        "            val = val.cuda()\n",
        " \n",
        "        # Train\n",
        "        preds = model.forward(row, col)\n",
        "        loss = loss_function(preds, val)\n",
        "        loss.backward()\n",
        "        optimizer.step()\n",
        " \n",
        "        # Update epoch loss\n",
        "        epoch_loss += loss.data\n",
        " \n",
        "    epoch_loss /= train_data_loader.dataset.shape[0]\n",
        "    return epoch_loss\n",
        " "
      ]
    },
    {
      "cell_type": "code",
      "execution_count": 28,
      "metadata": {
        "colab": {
          "base_uri": "https://localhost:8080/",
          "height": 1000
        },
        "id": "T4oQhwIIV37u",
        "outputId": "a2a0db8f-3468-45e2-8be7-20f5d3be655a"
      },
      "outputs": [
        {
          "name": "stdout",
          "output_type": "stream",
          "text": [
            "------------------------------------------- Training Model------------------------------------------------\n",
            "parameters are: train ratio:0.800000,batch_size:100000, epoches:150, weight_decay:0.100000\n",
            "PMF(\n",
            "  (user_embeddings): Embedding(1987843, 100)\n",
            "  (item_embeddings): Embedding(150346, 100)\n",
            "  (ub): Embedding(1987843, 1)\n",
            "  (ib): Embedding(150346, 1)\n",
            ")\n",
            "Training epoch: 1, training rmse: 0.669544, vali rmse:0.651196\n",
            "Training epoch: 2, training rmse: 0.639158, vali rmse:0.634661\n",
            "Training epoch: 3, training rmse: 0.623999, vali rmse:0.625310\n",
            "Training epoch: 4, training rmse: 0.613748, vali rmse:0.618817\n",
            "Training epoch: 5, training rmse: 0.605860, vali rmse:0.613891\n",
            "Training epoch: 6, training rmse: 0.599407, vali rmse:0.609965\n",
            "Training epoch: 7, training rmse: 0.593933, vali rmse:0.606734\n",
            "Training epoch: 8, training rmse: 0.589175, vali rmse:0.604014\n",
            "Training epoch: 9, training rmse: 0.584965, vali rmse:0.601688\n",
            "Training epoch: 10, training rmse: 0.581191, vali rmse:0.599671\n",
            "Training epoch: 11, training rmse: 0.577772, vali rmse:0.597905\n",
            "Training epoch: 12, training rmse: 0.574647, vali rmse:0.596346\n",
            "Training epoch: 13, training rmse: 0.571772, vali rmse:0.594960\n",
            "Training epoch: 14, training rmse: 0.569110, vali rmse:0.593720\n",
            "Training epoch: 15, training rmse: 0.566633, vali rmse:0.592606\n",
            "Training epoch: 16, training rmse: 0.564316, vali rmse:0.591600\n",
            "Training epoch: 17, training rmse: 0.562142, vali rmse:0.590688\n",
            "Training epoch: 18, training rmse: 0.560092, vali rmse:0.589860\n",
            "Training epoch: 19, training rmse: 0.558155, vali rmse:0.589104\n",
            "Training epoch: 20, training rmse: 0.556317, vali rmse:0.588414\n",
            "Training epoch: 21, training rmse: 0.554570, vali rmse:0.587781\n",
            "Training epoch: 22, training rmse: 0.552903, vali rmse:0.587200\n",
            "Training epoch: 23, training rmse: 0.551310, vali rmse:0.586666\n",
            "Training epoch: 24, training rmse: 0.549783, vali rmse:0.586173\n",
            "Training epoch: 25, training rmse: 0.548317, vali rmse:0.585719\n",
            "Training epoch: 26, training rmse: 0.546907, vali rmse:0.585300\n",
            "Training epoch: 27, training rmse: 0.545546, vali rmse:0.584912\n",
            "Training epoch: 28, training rmse: 0.544231, vali rmse:0.584552\n",
            "Training epoch: 29, training rmse: 0.542959, vali rmse:0.584219\n",
            "Training epoch: 30, training rmse: 0.541725, vali rmse:0.583911\n",
            "Training epoch: 31, training rmse: 0.540526, vali rmse:0.583625\n",
            "Training epoch: 32, training rmse: 0.539360, vali rmse:0.583359\n",
            "Training epoch: 33, training rmse: 0.538223, vali rmse:0.583112\n",
            "Training epoch: 34, training rmse: 0.537113, vali rmse:0.582883\n",
            "Training epoch: 35, training rmse: 0.536029, vali rmse:0.582670\n",
            "Training epoch: 36, training rmse: 0.534966, vali rmse:0.582472\n",
            "Training epoch: 37, training rmse: 0.533925, vali rmse:0.582288\n",
            "Training epoch: 38, training rmse: 0.532903, vali rmse:0.582117\n",
            "Training epoch: 39, training rmse: 0.531899, vali rmse:0.581959\n",
            "Training epoch: 40, training rmse: 0.530911, vali rmse:0.581812\n",
            "Training epoch: 41, training rmse: 0.529937, vali rmse:0.581676\n"
          ]
        }
      ],
      "source": [
        "# training model part\n",
        "print('------------------------------------------- Training Model------------------------------------------------')\n",
        "train_loss_list = []\n",
        "last_vali_rmse = None\n",
        "train_rmse_list = []\n",
        "vali_rmse_list = []\n",
        "print('parameters are: train ratio:{:f},batch_size:{:d}, epoches:{:d}, weight_decay:{:f}'.format(ratio, batch_size, epoches, weight_decay))\n",
        "print(model)\n",
        " \n",
        "# Go through epochs\n",
        "for epoch in range(1, epoches+1):\n",
        " \n",
        "    # Train epoch\n",
        "    train_epoch_loss = train(epoch, train_data_loader)\n",
        " \n",
        "    # Get epoch loss\n",
        "    train_loss_list.append(train_epoch_loss.cpu())\n",
        " \n",
        "    # Move validation data to CUDA\n",
        "    if cuda:\n",
        "        vali_row = Variable(torch.from_numpy(vali_data[:, 1]).long()).cuda()\n",
        "        vali_col = Variable(torch.from_numpy(vali_data[:, 4]).long()).cuda()\n",
        "    else:\n",
        "        vali_row = Variable(torch.from_numpy(vali_data[:, 1]).long())\n",
        "        vali_col = Variable(torch.from_numpy(vali_data[:, 4]).long())\n",
        " \n",
        "    # Get validation predictions\n",
        "    vali_preds = model.predict(vali_row, vali_col)\n",
        " \n",
        "    # Calculate train rmse loss\n",
        "    train_rmse = np.sqrt(train_epoch_loss.cpu())\n",
        " \n",
        "    # Calculate validation rmse loss\n",
        "    if cuda:\n",
        "        vali_rmse = RMSE(vali_preds.cpu().data.numpy(), vali_data[:, 0])\n",
        "    else:\n",
        "        vali_rmse = RMSE(vali_preds.data.numpy(), vali_data[:, 0])\n",
        " \n",
        "    # Add losses to rmse loss lists\n",
        "    train_rmse_list.append(train_rmse)\n",
        "    vali_rmse_list.append(vali_rmse)\n",
        " \n",
        "    print('Training epoch:{: d}, training rmse:{: .6f}, vali rmse:{:.6f}'. \\\n",
        "              format(epoch, train_rmse, vali_rmse))\n",
        " \n",
        "    # Early stop condition\n",
        "    if last_vali_rmse and last_vali_rmse < vali_rmse:\n",
        "        break\n",
        "    else:\n",
        "      last_vali_rmse = vali_rmse\n",
        " \n",
        "print('------------------------------------------- Testing Model------------------------------------------------')\n",
        " \n",
        "# Move test set to CUDA\n",
        "if cuda:\n",
        "    test_row = Variable(torch.from_numpy(test_data[:, 1]).long()).cuda()\n",
        "    test_col = Variable(torch.from_numpy(test_data[:, 4]).long()).cuda()\n",
        "else:\n",
        "    test_row = Variable(torch.from_numpy(test_data[:, 1]).long())\n",
        "    test_col = Variable(torch.from_numpy(test_data[:, 4]).long())\n",
        " \n",
        "# Get test predictions\n",
        "preds = model.predict(test_row, test_col)\n",
        " \n",
        "# Get test rmse loss\n",
        "if cuda:\n",
        "    test_rmse = RMSE(preds.cpu().data.numpy(), test_data[:, 0])\n",
        "else:\n",
        "    test_rmse = RMSE(preds.data.numpy(), test_data[:, 0])\n",
        "print('Test rmse: {:f}'.format(test_rmse))\n",
        " \n"
      ]
    },
    {
      "cell_type": "code",
      "execution_count": null,
      "metadata": {},
      "outputs": [
        {
          "data": {
            "image/png": "[encoded data removed]",
            "text/plain": [
              "<Figure size 640x480 with 1 Axes>"
            ]
          },
          "metadata": {},
          "output_type": "display_data"
        }
      ],
      "source": [
        "# Create plots\n",
        "plt.figure(1)\n",
        "plt.plot(range(1, len(train_rmse_list)+1), train_rmse_list, color='r', label='train rmse')\n",
        "plt.plot(range(1, len(vali_rmse_list)+1), vali_rmse_list, color='b', label='test rmse')\n",
        "plt.legend()\n",
        "plt.annotate(r'train=%f' % (train_rmse_list[-1]), xy=(len(train_rmse_list), train_rmse_list[-1]),\n",
        "             xycoords='data', xytext=(-30, 30), textcoords='offset points', fontsize=10,\n",
        "             arrowprops=dict(arrowstyle='->', connectionstyle='arc3, rad=.2'))\n",
        "plt.annotate(r'vali=%f' % (vali_rmse_list[-1]), xy=(len(vali_rmse_list), vali_rmse_list[-1]),\n",
        "             xycoords='data', xytext=(-30, 30), textcoords='offset points', fontsize=10,\n",
        "             arrowprops=dict(arrowstyle='->', connectionstyle='arc3, rad=.2'))\n",
        "plt.xlim([1, len(train_rmse_list)+10])\n",
        "plt.xlabel('iterations')\n",
        "plt.ylabel('RMSE')\n",
        "plt.title('RMSE Curve in Training Process')\n",
        "plt.show()\n",
        " \n",
        "# Save model\n",
        "path_to_trained_pmf = 'dataset/data_runs/ratio_{:f}_bs_{:d}_e_{:d}_wd_{:f}_lr_{:f}_trained_pmf.pt'.format(ratio, batch_size, len(train_rmse_list), weight_decay, lr)\n",
        "torch.save(model.state_dict(), path_to_trained_pmf)"
      ]
    },
    {
      "cell_type": "code",
      "execution_count": null,
      "metadata": {},
      "outputs": [
        {
          "name": "stdout",
          "output_type": "stream",
          "text": [
            "tensor(2.6547)\n",
            "2.0\n"
          ]
        }
      ],
      "source": [
        "idx = 1002457\n",
        "\n",
        "# Convert data[idx][4] and data[idx][6] to integers\n",
        "input_tensor_1 = torch.tensor([int(data[idx][1])]).to(device)\n",
        "input_tensor_2 = torch.tensor([int(data[idx][4])]).to(device)\n",
        "\n",
        "# Now use the tensors in the model\n",
        "output = model.predict(input_tensor_1, input_tensor_2).cpu().data[0] * 2 + 3\n",
        "\n",
        "print(output)\n",
        "print(data[idx][0] * 2 + 3)"
      ]
    },
    {
      "cell_type": "code",
      "execution_count": null,
      "metadata": {},
      "outputs": [],
      "source": []
    }
  ],
  "metadata": {
    "accelerator": "GPU",
    "colab": {
      "collapsed_sections": [],
      "name": "train_PMF_project.ipynb",
      "provenance": []
    },
    "kernelspec": {
      "display_name": "Python 3.10.11 ('newenv')",
      "language": "python",
      "name": "python3"
    },
    "language_info": {
      "codemirror_mode": {
        "name": "ipython",
        "version": 3
      },
      "file_extension": ".py",
      "mimetype": "text/x-python",
      "name": "python",
      "nbconvert_exporter": "python",
      "pygments_lexer": "ipython3",
      "version": "3.10.11"
    },
    "vscode": {
      "interpreter": {
        "hash": "7cb567b3d908497d903f9ad374af8431fd2b5e0bfd393d0197b2960697f327e5"
      }
    }
  },
  "nbformat": 4,
  "nbformat_minor": 0
}
