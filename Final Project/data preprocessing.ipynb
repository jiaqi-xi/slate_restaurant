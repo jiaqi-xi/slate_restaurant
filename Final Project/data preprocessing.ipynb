{
 "cells": [
  {
   "cell_type": "code",
   "execution_count": 1,
   "id": "b3cc343d",
   "metadata": {},
   "outputs": [],
   "source": [
    "import pandas as pd\n",
    "import pickle\n",
    "import numpy as np\n",
    "import torch\n",
    "import torch.nn as nn\n",
    "import torch.nn.functional as F\n",
    "from datetime import datetime, timedelta\n",
    "import ast\n",
    "import json"
   ]
  },
  {
   "cell_type": "code",
   "execution_count": 12,
   "id": "0ec9a6d9",
   "metadata": {},
   "outputs": [],
   "source": [
    "# unix datetime\n",
    "base = pd.Timestamp(\"1970-01-01\")\n",
    "CHUNK_SIZE = 1000000\n",
    "REVIEW_DROP = 10"
   ]
  },
  {
   "cell_type": "code",
   "execution_count": 3,
   "id": "64ef7d74",
   "metadata": {},
   "outputs": [],
   "source": [
    "# Function that extract keys from the nested dictionary\n",
    "def extract_keys(attr, key):\n",
    "    if attr == None:\n",
    "        return \"{}\"\n",
    "    if key in attr:\n",
    "        return attr.pop(key)"
   ]
  },
  {
   "cell_type": "code",
   "execution_count": 4,
   "id": "ca968ec6",
   "metadata": {},
   "outputs": [],
   "source": [
    "# convert string to dictionary\n",
    "def str_to_dict(attr):\n",
    "    if attr != None:\n",
    "        return ast.literal_eval(attr)\n",
    "    else:\n",
    "        return ast.literal_eval(\"{}\")"
   ]
  },
  {
   "cell_type": "code",
   "execution_count": 5,
   "id": "26f67b31",
   "metadata": {},
   "outputs": [],
   "source": [
    "def sub_timestamp(element):\n",
    "    element = element[0]\n",
    "    a, b = element.split('-')\n",
    "    a = datetime.strptime(a, \"%H:%M\")\n",
    "    b = datetime.strptime(b, \"%H:%M\")\n",
    "    return timedelta.total_seconds(b - a)"
   ]
  },
  {
   "cell_type": "code",
   "execution_count": 6,
   "id": "6bd1a414",
   "metadata": {},
   "outputs": [],
   "source": [
    "# check whether CUDA (GPU acceleration) is available on the current system\n",
    "def get_device():\n",
    "    if torch.cuda.is_available():\n",
    "        device = torch.device('cuda:0')\n",
    "    else:\n",
    "        device = torch.device('cpu')\n",
    "    return device\n",
    "\n",
    "# convert the values of the DataFrame to a PyTorch tensor\n",
    "def df_to_tensor(df):\n",
    "    device = get_device()\n",
    "    return torch.from_numpy(df.values).long().to(device)\n",
    "\n",
    "# converts a pandas DataFrame to a PyTorch tensor\n",
    "def df_to_tensor_cpu(df):\n",
    "    return torch.from_numpy(df.values).long()"
   ]
  },
  {
   "cell_type": "code",
   "execution_count": 7,
   "id": "d084cc77",
   "metadata": {},
   "outputs": [],
   "source": [
    "def process_data_chunk(reviews, users, restaurants):\n",
    "    reviews = pd.merge(reviews, users, how='inner', on='user_id')\n",
    "    reviews = reviews.drop(columns='user_id')\n",
    "    reviews = pd.merge(reviews, restaurants, how='inner', on='business_id')\n",
    "    reviews = reviews.drop(columns='business_id')\n",
    "    print(\"REVIEWS.HEAD() -------------------------------------------------------------------\")\n",
    "    print(reviews.head())\n",
    "    reviews = reviews.drop(columns=reviews.columns[0], axis=1)\n",
    "    print(\"REVIEWS.DROP() -------------------------------------------------------------------\")\n",
    "    print(reviews.head())\n",
    "    return df_to_tensor(reviews)"
   ]
  },
  {
   "cell_type": "code",
   "execution_count": 8,
   "id": "a582289d",
   "metadata": {},
   "outputs": [],
   "source": [
    "def load_data(train_percent, val_percent, test_percent):\n",
    "    print(\"Reading users\")\n",
    "    with open('dataset/yelp_academic_dataset_user.json', 'r') as file:\n",
    "        data = [json.loads(line) for line in file]\n",
    "\n",
    "    users = pd.DataFrame(data)\n",
    "    users = users[users['review_count'] > REVIEW_DROP]\n",
    "    users['user_id'] = users['user_id'].astype('category')\n",
    "    users['user_id_num'] = users['user_id'].cat.codes\n",
    "    users = users[['user_id', 'user_id_num', 'review_count']]\n",
    "    user_id_to_num = dict(zip(users['user_id'], users['user_id_num']))\n",
    "\n",
    "    print(\"Reading businesses\")\n",
    "    with open('dataset/yelp_academic_dataset_business.json', 'r') as file:\n",
    "        data = [json.loads(line) for line in file]\n",
    "\n",
    "    restaurants = pd.DataFrame(data)\n",
    "    restaurants['business_id'] = restaurants['business_id'].astype('category')\n",
    "    restaurants['business_id_num'] = restaurants['business_id'].cat.codes\n",
    "    restaurants = restaurants[['business_id', 'business_id_num']]\n",
    "    rest_id_to_num = dict(zip(restaurants['business_id'], restaurants['business_id_num']))\n",
    "\n",
    "    print(\"Reading reviews\")\n",
    "    with open('dataset/yelp_academic_dataset_review.json', 'r') as file:\n",
    "        data = [json.loads(line) for line in file]\n",
    "\n",
    "    reviews = pd.DataFrame(data)\n",
    "\n",
    "    reviews = pd.merge(reviews, users, how='inner', on='user_id')\n",
    "    reviews = reviews.drop(columns='user_id')\n",
    "    reviews = pd.merge(reviews, restaurants, how='inner', on='business_id')\n",
    "    reviews = reviews.drop(columns=['business_id', 'text','date'])\n",
    "    print(\"REVIEWS.HEAD() -------------------------------------------------------------------\")\n",
    "    print(reviews.head())\n",
    "    reviews = reviews.drop(columns=reviews.columns[0], axis=1)\n",
    "    print(\"REVIEWS.DROP() -------------------------------------------------------------------\")\n",
    "    print(reviews.head())\n",
    "\n",
    "    pickle.dump(user_id_to_num, open('dataset/user_id_to_num.pkl', 'wb'))\n",
    "    pickle.dump(rest_id_to_num, open('dataset/rest_id_to_num.pkl', 'wb'))\n",
    "    np.save('dataset/data.npy', reviews.values)\n",
    "\n",
    "    training = reviews.sample(frac=train_percent)\n",
    "\n",
    "    left = reviews.drop(training.index)\n",
    "    validation = left.sample(frac=val_percent / (val_percent + test_percent))\n",
    "\n",
    "    test = left.drop(validation.index)\n",
    "\n",
    "    print(\"loaded\")\n",
    "\n",
    "    return df_to_tensor_cpu(training), df_to_tensor_cpu(validation), df_to_tensor_cpu(test), user_id_to_num, rest_id_to_num"
   ]
  },
  {
   "cell_type": "code",
   "execution_count": 9,
   "id": "6db945a5",
   "metadata": {},
   "outputs": [
    {
     "name": "stdout",
     "output_type": "stream",
     "text": [
      "Reading users\n",
      "Reading businesses\n",
      "Reading reviews\n",
      "REVIEWS.HEAD() -------------------------------------------------------------------\n",
      "                review_id  stars  useful  funny  cool  user_id_num   \n",
      "0  KU_O5udG6zpxOg-VcAEodg    3.0       0      0     0      1575913  \\\n",
      "1  jHmqmoEI-78BGHFJaDKlhQ    2.0       0      0     0       194076   \n",
      "2  vwIXZHod-jQmGFvx0wCqSg    5.0       0      0     0      1679313   \n",
      "3  SP32nOhRm-KRAjYMPgf_MQ    3.0       0      0     0      1888226   \n",
      "4  fvu5n5shkAJDbQjulKNuqw    2.0       8      0     0       758236   \n",
      "\n",
      "   review_count  business_id_num  \n",
      "0            33            80739  \n",
      "1            39            80739  \n",
      "2             7            80739  \n",
      "3           490            80739  \n",
      "4           483            80739  \n",
      "REVIEWS.DROP() -------------------------------------------------------------------\n",
      "   stars  useful  funny  cool  user_id_num  review_count  business_id_num\n",
      "0    3.0       0      0     0      1575913            33            80739\n",
      "1    2.0       0      0     0       194076            39            80739\n",
      "2    5.0       0      0     0      1679313             7            80739\n",
      "3    3.0       0      0     0      1888226           490            80739\n",
      "4    2.0       8      0     0       758236           483            80739\n",
      "loaded\n",
      "TRAIN ----------------------------------------------\n",
      "torch.Size([4194115, 7])\n",
      "VAL ----------------------------------------------\n",
      "torch.Size([2097058, 7])\n",
      "TEST ----------------------------------------------\n",
      "torch.Size([699019, 7])\n"
     ]
    }
   ],
   "source": [
    "if __name__ == \"__main__\":\n",
    "    train, val, test, user, rest = load_data(0.6, 0.3, 0.1)\n",
    "    print(\"TRAIN ----------------------------------------------\")\n",
    "    print(train.shape)\n",
    "    print(\"VAL ----------------------------------------------\")\n",
    "    print(val.shape)\n",
    "    print(\"TEST ----------------------------------------------\")\n",
    "    print(test.shape)"
   ]
  },
  {
   "cell_type": "markdown",
   "id": "ab5469dc",
   "metadata": {},
   "source": [
    "###  Output data with the text column"
   ]
  },
  {
   "cell_type": "code",
   "execution_count": 13,
   "id": "12a8e5da",
   "metadata": {},
   "outputs": [
    {
     "name": "stdout",
     "output_type": "stream",
     "text": [
      "Reading users\n"
     ]
    }
   ],
   "source": [
    "# Output data with the text column\n",
    "print(\"Reading users\")\n",
    "with open('dataset/yelp_academic_dataset_user.json', 'r') as file:\n",
    "    data = [json.loads(line) for line in file]\n",
    "\n",
    "users = pd.DataFrame(data)\n",
    "users = users[users['review_count'] > REVIEW_DROP]\n",
    "users['user_id'] = users['user_id'].astype('category')\n",
    "users['user_id_num'] = users['user_id'].cat.codes\n",
    "users = users[['user_id', 'user_id_num', 'review_count', 'average_stars']]\n",
    "user_id_to_num = dict(zip(users['user_id'], users['user_id_num']))"
   ]
  },
  {
   "cell_type": "code",
   "execution_count": 14,
   "id": "8722a4a8",
   "metadata": {},
   "outputs": [
    {
     "name": "stdout",
     "output_type": "stream",
     "text": [
      "Reading businesses\n"
     ]
    }
   ],
   "source": [
    "print(\"Reading businesses\")\n",
    "with open('dataset/yelp_academic_dataset_business.json', 'r') as file:\n",
    "    data = [json.loads(line) for line in file]\n",
    "\n",
    "restaurants = pd.DataFrame(data)\n",
    "restaurants['business_id'] = restaurants['business_id'].astype('category')\n",
    "restaurants['business_id_num'] = restaurants['business_id'].cat.codes\n",
    "restaurants.rename(columns={'stars': 'business_avg_stars'}, inplace=True)\n",
    "\n",
    "\n",
    "# Adding categories of the restaurant\n",
    "restaurants['categories'] = restaurants['categories'].apply(lambda x: x.split(',') if pd.notnull(x) else [])\n",
    "all_categories = set(category.strip() for categories in restaurants['categories'] for category in categories)\n",
    "category_to_code = {category: code for code, category in enumerate(all_categories)}\n",
    "restaurants['category_codes'] = restaurants['categories'].apply(lambda x: [category_to_code[category.strip()] for category in x])\n",
    "\n",
    "restaurants = restaurants[['business_id', 'business_id_num', 'business_avg_stars', 'category_codes']]\n",
    "rest_id_to_num = dict(zip(restaurants['business_id'], restaurants['business_id_num']))\n"
   ]
  },
  {
   "cell_type": "code",
   "execution_count": 15,
   "id": "449eaf56",
   "metadata": {},
   "outputs": [
    {
     "name": "stdout",
     "output_type": "stream",
     "text": [
      "Reading reviews\n"
     ]
    }
   ],
   "source": [
    "print(\"Reading reviews\")\n",
    "with open('dataset/yelp_academic_dataset_review.json', 'r') as file:\n",
    "    data = [json.loads(line) for line in file]\n",
    "\n",
    "reviews = pd.DataFrame(data)\n",
    "\n",
    "reviews = pd.merge(reviews, users, how='inner', on='user_id')\n",
    "reviews = reviews.drop(columns='user_id')\n",
    "reviews = pd.merge(reviews, restaurants, how='inner', on='business_id')"
   ]
  },
  {
   "cell_type": "code",
   "execution_count": 16,
   "id": "da079edb",
   "metadata": {},
   "outputs": [
    {
     "data": {
      "text/html": [
       "<div>\n",
       "<style scoped>\n",
       "    .dataframe tbody tr th:only-of-type {\n",
       "        vertical-align: middle;\n",
       "    }\n",
       "\n",
       "    .dataframe tbody tr th {\n",
       "        vertical-align: top;\n",
       "    }\n",
       "\n",
       "    .dataframe thead th {\n",
       "        text-align: right;\n",
       "    }\n",
       "</style>\n",
       "<table border=\"1\" class=\"dataframe\">\n",
       "  <thead>\n",
       "    <tr style=\"text-align: right;\">\n",
       "      <th></th>\n",
       "      <th>review_id</th>\n",
       "      <th>business_id</th>\n",
       "      <th>stars</th>\n",
       "      <th>useful</th>\n",
       "      <th>funny</th>\n",
       "      <th>cool</th>\n",
       "      <th>text</th>\n",
       "      <th>date</th>\n",
       "      <th>user_id_num</th>\n",
       "      <th>review_count</th>\n",
       "      <th>average_stars</th>\n",
       "      <th>business_id_num</th>\n",
       "      <th>business_avg_stars</th>\n",
       "      <th>category_codes</th>\n",
       "    </tr>\n",
       "  </thead>\n",
       "  <tbody>\n",
       "    <tr>\n",
       "      <th>0</th>\n",
       "      <td>KU_O5udG6zpxOg-VcAEodg</td>\n",
       "      <td>XQfwVwDr-v0ZS3_CbbE5Xw</td>\n",
       "      <td>3.0</td>\n",
       "      <td>0</td>\n",
       "      <td>0</td>\n",
       "      <td>0</td>\n",
       "      <td>If you decide to eat here, just be aware it is...</td>\n",
       "      <td>2018-07-07 22:09:11</td>\n",
       "      <td>540278</td>\n",
       "      <td>33</td>\n",
       "      <td>4.06</td>\n",
       "      <td>80739</td>\n",
       "      <td>3.0</td>\n",
       "      <td>[344, 1252, 736, 114, 412, 1175, 616]</td>\n",
       "    </tr>\n",
       "    <tr>\n",
       "      <th>1</th>\n",
       "      <td>jHmqmoEI-78BGHFJaDKlhQ</td>\n",
       "      <td>XQfwVwDr-v0ZS3_CbbE5Xw</td>\n",
       "      <td>2.0</td>\n",
       "      <td>0</td>\n",
       "      <td>0</td>\n",
       "      <td>0</td>\n",
       "      <td>Excellent food but slow, slow, slow. Staff nee...</td>\n",
       "      <td>2017-10-09 15:55:09</td>\n",
       "      <td>66129</td>\n",
       "      <td>39</td>\n",
       "      <td>3.05</td>\n",
       "      <td>80739</td>\n",
       "      <td>3.0</td>\n",
       "      <td>[344, 1252, 736, 114, 412, 1175, 616]</td>\n",
       "    </tr>\n",
       "  </tbody>\n",
       "</table>\n",
       "</div>"
      ],
      "text/plain": [
       "                review_id             business_id  stars  useful  funny  cool   \n",
       "0  KU_O5udG6zpxOg-VcAEodg  XQfwVwDr-v0ZS3_CbbE5Xw    3.0       0      0     0  \\\n",
       "1  jHmqmoEI-78BGHFJaDKlhQ  XQfwVwDr-v0ZS3_CbbE5Xw    2.0       0      0     0   \n",
       "\n",
       "                                                text                 date   \n",
       "0  If you decide to eat here, just be aware it is...  2018-07-07 22:09:11  \\\n",
       "1  Excellent food but slow, slow, slow. Staff nee...  2017-10-09 15:55:09   \n",
       "\n",
       "   user_id_num  review_count  average_stars  business_id_num   \n",
       "0       540278            33           4.06            80739  \\\n",
       "1        66129            39           3.05            80739   \n",
       "\n",
       "   business_avg_stars                         category_codes  \n",
       "0                 3.0  [344, 1252, 736, 114, 412, 1175, 616]  \n",
       "1                 3.0  [344, 1252, 736, 114, 412, 1175, 616]  "
      ]
     },
     "execution_count": 16,
     "metadata": {},
     "output_type": "execute_result"
    }
   ],
   "source": [
    "reviews.head(2)"
   ]
  },
  {
   "cell_type": "code",
   "execution_count": 17,
   "id": "32d3a96a",
   "metadata": {},
   "outputs": [
    {
     "data": {
      "text/plain": [
       "1311"
      ]
     },
     "execution_count": 17,
     "metadata": {},
     "output_type": "execute_result"
    }
   ],
   "source": [
    "len(category_to_code)"
   ]
  },
  {
   "cell_type": "code",
   "execution_count": 18,
   "id": "7c07b7e5",
   "metadata": {},
   "outputs": [
    {
     "data": {
      "text/html": [
       "<div>\n",
       "<style scoped>\n",
       "    .dataframe tbody tr th:only-of-type {\n",
       "        vertical-align: middle;\n",
       "    }\n",
       "\n",
       "    .dataframe tbody tr th {\n",
       "        vertical-align: top;\n",
       "    }\n",
       "\n",
       "    .dataframe thead th {\n",
       "        text-align: right;\n",
       "    }\n",
       "</style>\n",
       "<table border=\"1\" class=\"dataframe\">\n",
       "  <thead>\n",
       "    <tr style=\"text-align: right;\">\n",
       "      <th></th>\n",
       "      <th>stars</th>\n",
       "      <th>user_id_num</th>\n",
       "      <th>review_count</th>\n",
       "      <th>average_stars</th>\n",
       "      <th>business_id_num</th>\n",
       "      <th>business_avg_stars</th>\n",
       "      <th>category_codes</th>\n",
       "    </tr>\n",
       "  </thead>\n",
       "  <tbody>\n",
       "    <tr>\n",
       "      <th>0</th>\n",
       "      <td>3.0</td>\n",
       "      <td>540278</td>\n",
       "      <td>33</td>\n",
       "      <td>4.06</td>\n",
       "      <td>80739</td>\n",
       "      <td>3.0</td>\n",
       "      <td>[344, 1252, 736, 114, 412, 1175, 616]</td>\n",
       "    </tr>\n",
       "    <tr>\n",
       "      <th>1</th>\n",
       "      <td>2.0</td>\n",
       "      <td>66129</td>\n",
       "      <td>39</td>\n",
       "      <td>3.05</td>\n",
       "      <td>80739</td>\n",
       "      <td>3.0</td>\n",
       "      <td>[344, 1252, 736, 114, 412, 1175, 616]</td>\n",
       "    </tr>\n",
       "  </tbody>\n",
       "</table>\n",
       "</div>"
      ],
      "text/plain": [
       "   stars  user_id_num  review_count  average_stars  business_id_num   \n",
       "0    3.0       540278            33           4.06            80739  \\\n",
       "1    2.0        66129            39           3.05            80739   \n",
       "\n",
       "   business_avg_stars                         category_codes  \n",
       "0                 3.0  [344, 1252, 736, 114, 412, 1175, 616]  \n",
       "1                 3.0  [344, 1252, 736, 114, 412, 1175, 616]  "
      ]
     },
     "execution_count": 18,
     "metadata": {},
     "output_type": "execute_result"
    }
   ],
   "source": [
    "reviews = reviews.drop(columns=['review_id', 'business_id', 'useful', 'funny', 'cool', 'text', 'date'])\n",
    "reviews.head(2)"
   ]
  },
  {
   "cell_type": "code",
   "execution_count": 19,
   "id": "02da134f",
   "metadata": {},
   "outputs": [],
   "source": [
    "# pickle.dump(user_id_to_num, open('dataset/user_id_to_num.pkl', 'wb'))\n",
    "# pickle.dump(rest_id_to_num, open('dataset/rest_id_to_num.pkl', 'wb'))\n",
    "pickle.dump(category_to_code, open('dataset/category_to_code.pkl', 'wb'))\n",
    "np.save('dataset/data_new.npy', reviews.values)"
   ]
  },
  {
   "cell_type": "code",
   "execution_count": null,
   "id": "1fb83d01",
   "metadata": {},
   "outputs": [],
   "source": []
  }
 ],
 "metadata": {
  "kernelspec": {
   "display_name": "Python 3.10.11 ('newenv')",
   "language": "python",
   "name": "python3"
  },
  "language_info": {
   "codemirror_mode": {
    "name": "ipython",
    "version": 3
   },
   "file_extension": ".py",
   "mimetype": "text/x-python",
   "name": "python",
   "nbconvert_exporter": "python",
   "pygments_lexer": "ipython3",
   "version": "3.10.11"
  },
  "vscode": {
   "interpreter": {
    "hash": "7cb567b3d908497d903f9ad374af8431fd2b5e0bfd393d0197b2960697f327e5"
   }
  }
 },
 "nbformat": 4,
 "nbformat_minor": 5
}
